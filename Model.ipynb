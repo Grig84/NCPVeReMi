{
 "cells": [
  {
   "cell_type": "code",
   "execution_count": null,
   "id": "3842ba7a",
   "metadata": {},
   "outputs": [],
   "source": [
    "#Imports:\n",
    "import pandas as pd\n",
    "import os\n",
    "import json\n",
    "import numpy as np"
   ]
  },
  {
   "cell_type": "code",
   "execution_count": null,
   "id": "d1a6fb66",
   "metadata": {},
   "outputs": [],
   "source": [
    "#Formatting dataset:\n",
    "#Time sequences are 10 timepoints (Messages) with 7 features per message.\n",
    "#Organized by car.\n",
    "\n",
    "dataFile = 'Data/CfCMultiExtension/'\n",
    "\n",
    "\n",
    "'''\n",
    "Create Dataloader from dataset. Shuffle off. \n",
    "10 BSMs per batch, each BSM with 7 features. Dataset is organized by sender, and a multiple of 100. Dataset is 'reflectedly' padded, ie. it repeates the end entries until a multiple of 100.\n",
    "'''"
   ]
  },
  {
   "cell_type": "code",
   "execution_count": null,
   "id": "4f4ff8e8",
   "metadata": {},
   "outputs": [],
   "source": [
    "#Create Model\n",
    "#Create Learning function\n",
    "#Create Testing function\n",
    "#Create tests"
   ]
  }
 ],
 "metadata": {
  "kernelspec": {
   "display_name": "Kettering",
   "language": "python",
   "name": "python3"
  },
  "language_info": {
   "codemirror_mode": {
    "name": "ipython",
    "version": 3
   },
   "file_extension": ".py",
   "mimetype": "text/x-python",
   "name": "python",
   "nbconvert_exporter": "python",
   "pygments_lexer": "ipython3",
   "version": "3.13.5"
  }
 },
 "nbformat": 4,
 "nbformat_minor": 5
}
