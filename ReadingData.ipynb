{
 "cells": [
  {
   "cell_type": "code",
   "execution_count": null,
   "id": "9c327aee",
   "metadata": {},
   "outputs": [],
   "source": [
    "import json\n",
    "import pandas as pd\n",
    "import os\n",
    "\n",
    "#Reading data as described in Gong et al.\n",
    "#Time sequences are 10 timepoints (Messages) with 7 features per message.\n",
    "#Organized by car.\n",
    "\n",
    "attackFolder = \"../VeReMi-Dataset-Expanded/\" #Folder where all of the logs are\n",
    "path = \"DoS_1416/VeReMi_54000_57600_2022-9-11_19:12:56/\" #Current subfolder to add together\n",
    "fileName = path.split(\"/\")[0] #Extracting attack type\n",
    "outputFolder = \"Data/\" #Where csvs will go\n",
    "vehicles = [] #Stores an array with vehicle ID and attacker status\n",
    "dataset = {} #Stores output while program is running\n",
    "\n",
    "for log in os.listdir(attackFolder+path):\n",
    "    if log.endswith('.json') and not log.startswith(\"traceGr\"): #Get all files without ground truth\n",
    "        name = log.split(\"-\")\n",
    "        vID, attk = name[2], int(name[3][1:]) #Get ID and attacker status, casting attacker status to int\n",
    "        vehicles.append([vID,attk]) #Append ID and attacker status to running list\n",
    "        data = pd.read_json(attackFolder+path+log, lines=True, ) #Get all of the entries\n",
    "        data = data.loc[data['type'] == 2] #Only gather entries from this vehicle (Do we want this? or do we want the opposite??????)\n",
    "        data = data.dropna(axis=1, how=\"all\") #Remove null columns\n",
    "        data = data.drop(axis=1, labels='type') #Remove useless column\n",
    "        data = data.reset_index(drop=True) #reorder the table to have consecutive indexes\n",
    "        list = data.values.tolist() #Convert dataframe to list for ease of reformatting (probably not necessary, and wasteful)\n",
    "        dic = data.to_dict(orient=\"index\") #Convert dataframe to dictionary to preserve formatting and labels\n",
    "        dataset[vID] = {\"BSMs\":dic, \"Attack Type\":attk} #Organize data as a dict for ease of reference\n",
    "\n",
    "json.dump(dataset, open(outputFolder+fileName+\".json\", \"w\"), indent=4) #Output data as nice looking json file.\n",
    "\n",
    "#BSMs have: Recieve time; Position; Position Noise; Speed; Speed Noise; Acceleration; Acceleration Noise; Heading; Heading Noise\n",
    "\n",
    "#Load dataset\n",
    "#Extract useful features\n",
    "#Load attack data\n",
    "#Split into Training and Test datasets\n",
    "#Format data for AI\n",
    "#Create Model\n",
    "#Create Learning function\n",
    "#Create Testing function\n",
    "#Create tests"
   ]
  }
 ],
 "metadata": {
  "kernelspec": {
   "display_name": "Kettering",
   "language": "python",
   "name": "python3"
  },
  "language_info": {
   "codemirror_mode": {
    "name": "ipython",
    "version": 3
   },
   "file_extension": ".py",
   "mimetype": "text/x-python",
   "name": "python",
   "nbconvert_exporter": "python",
   "pygments_lexer": "ipython3",
   "version": "3.13.5"
  }
 },
 "nbformat": 4,
 "nbformat_minor": 5
}
