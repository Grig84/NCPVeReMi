{
 "cells": [
  {
   "cell_type": "code",
   "execution_count": null,
   "id": "3842ba7a",
   "metadata": {},
   "outputs": [],
   "source": [
    "#Imports:\n",
    "import pandas as pd\n",
    "import os\n",
    "import json\n",
    "import numpy as np"
   ]
  },
  {
   "cell_type": "code",
   "execution_count": null,
   "id": "d1a6fb66",
   "metadata": {},
   "outputs": [],
   "source": [
    "#Formatting dataset:\n",
    "#Time sequences are 10 timepoints (Messages) with 7 features per message.\n",
    "#Organized by car.\n",
    "dataDirect = \"Data/\"\n",
    "allDatasets = {}\n",
    "\n",
    "for filename in os.listdir(dataDirect):\n",
    "    if filename.endswith(\".json\"):\n",
    "       allDatasets[filename.split(\".\")[0]] = json.load(open(dataDirect+filename))\n",
    "\n",
    "doSData = allDatasets[\"DoS_1416\"]\n",
    "fullDoSDataset = {}\n",
    "for car in doSData:\n",
    "    carVal = doSData[car]\n",
    "    bSMs = []\n",
    "    count = 0\n",
    "    lastentry = []\n",
    "    for BSM in carVal[\"BSMs\"].values():\n",
    "        BSMVals = []\n",
    "        BSMVals.append()\n",
    "\n",
    "\n",
    "        for value in BSM.values():\n",
    "            BSMVals.append(value)\n",
    "        count+=1\n",
    "        bSMs.append([BSMVals, carVal[\"Attack Type\"]])\n",
    "        lastentry = [BSMVals, carVal[\"Attack Type\"]]\n",
    "    while count % 100:\n",
    "        count+=1\n",
    "        bSMs.append(lastentry)\n",
    "    fullDoSDataset[car] = bSMs\n",
    "    \n",
    "\n",
    "\n",
    "print(fullDoSDataset, file=open(\"out.txt\", \"w\"))\n",
    "#Split into Training and Test datasets\n",
    "#Format data for AI"
   ]
  },
  {
   "cell_type": "code",
   "execution_count": null,
   "id": "4f4ff8e8",
   "metadata": {},
   "outputs": [],
   "source": [
    "#Create Model\n",
    "#Create Learning function\n",
    "#Create Testing function\n",
    "#Create tests"
   ]
  }
 ],
 "metadata": {
  "kernelspec": {
   "display_name": "Kettering",
   "language": "python",
   "name": "python3"
  },
  "language_info": {
   "codemirror_mode": {
    "name": "ipython",
    "version": 3
   },
   "file_extension": ".py",
   "mimetype": "text/x-python",
   "name": "python",
   "nbconvert_exporter": "python",
   "pygments_lexer": "ipython3",
   "version": "3.13.5"
  }
 },
 "nbformat": 4,
 "nbformat_minor": 5
}
